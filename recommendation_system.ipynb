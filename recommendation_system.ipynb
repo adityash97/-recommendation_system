{
 "cells": [
  {
   "cell_type": "code",
   "execution_count": 6,
   "metadata": {},
   "outputs": [],
   "source": [
    "import pandas as pd\n",
    "import numpy as np\n",
    "import re\n"
   ]
  },
  {
   "cell_type": "code",
   "execution_count": 7,
   "metadata": {},
   "outputs": [],
   "source": [
    "df = pd.read_csv(\"/Users/aditya/Downloads/genres.csv\")\n",
    "df['id'],df['Genres'] = df['Genres'],df['id']\n",
    "df.columns = ['genres', 'id']"
   ]
  },
  {
   "cell_type": "code",
   "execution_count": 8,
   "metadata": {},
   "outputs": [
    {
     "data": {
      "text/html": [
       "<div>\n",
       "<style scoped>\n",
       "    .dataframe tbody tr th:only-of-type {\n",
       "        vertical-align: middle;\n",
       "    }\n",
       "\n",
       "    .dataframe tbody tr th {\n",
       "        vertical-align: top;\n",
       "    }\n",
       "\n",
       "    .dataframe thead th {\n",
       "        text-align: right;\n",
       "    }\n",
       "</style>\n",
       "<table border=\"1\" class=\"dataframe\">\n",
       "  <thead>\n",
       "    <tr style=\"text-align: right;\">\n",
       "      <th></th>\n",
       "      <th>genres</th>\n",
       "      <th>id</th>\n",
       "    </tr>\n",
       "  </thead>\n",
       "  <tbody>\n",
       "    <tr>\n",
       "      <th>0</th>\n",
       "      <td>YOUNG ADULT, MYSTERY, ROMANCE</td>\n",
       "      <td>630104</td>\n",
       "    </tr>\n",
       "    <tr>\n",
       "      <th>1</th>\n",
       "      <td>FICTION, ROMANCE</td>\n",
       "      <td>9487</td>\n",
       "    </tr>\n",
       "    <tr>\n",
       "      <th>2</th>\n",
       "      <td>FICTION</td>\n",
       "      <td>6050894</td>\n",
       "    </tr>\n",
       "    <tr>\n",
       "      <th>3</th>\n",
       "      <td>THRILLER, MYSTERY, HORROR, FICTION</td>\n",
       "      <td>39030</td>\n",
       "    </tr>\n",
       "    <tr>\n",
       "      <th>4</th>\n",
       "      <td>NONFICTION</td>\n",
       "      <td>998</td>\n",
       "    </tr>\n",
       "  </tbody>\n",
       "</table>\n",
       "</div>"
      ],
      "text/plain": [
       "                               genres       id\n",
       "0       YOUNG ADULT, MYSTERY, ROMANCE   630104\n",
       "1                    FICTION, ROMANCE     9487\n",
       "2                             FICTION  6050894\n",
       "3  THRILLER, MYSTERY, HORROR, FICTION    39030\n",
       "4                          NONFICTION      998"
      ]
     },
     "execution_count": 8,
     "metadata": {},
     "output_type": "execute_result"
    }
   ],
   "source": [
    "df.head()"
   ]
  },
  {
   "cell_type": "code",
   "execution_count": 159,
   "metadata": {},
   "outputs": [],
   "source": [
    "min_conf = 70\n",
    "min_support = 4000"
   ]
  },
  {
   "cell_type": "code",
   "execution_count": 167,
   "metadata": {},
   "outputs": [
    {
     "name": "stdout",
     "output_type": "stream",
     "text": [
      "['YOUNG ADULT', 'MYSTERY', 'ROMANCE', 'FICTION', 'THRILLER', 'HORROR', 'NONFICTION', 'HISTORICAL', 'HUMOR', 'CHILDRENS', 'CLASSICS', 'FANTASY', 'SCIENCE FICTION', 'ADVENTURE', 'MYSTERY-CRIME', 'FANTASY-PARANORMAL', 'LITERATURE', 'BIOGRAPHY', 'NOVELS', 'ROMANCE-CONTEMPORARY ROMANCE']\n"
     ]
    }
   ],
   "source": [
    "uniqueGenres=[]  # will give unique Genre in list.\n",
    "for i in range(df.shape[0]):\n",
    "    for j in range(df['genres'][i].count(',')+1):\n",
    "        c = df['genres'][i].split(',')[j].strip()\n",
    "        if c not in uniqueGenres:\n",
    "            uniqueGenres.append(c)\n",
    "print(uniqueGenres)\n",
    "    \n",
    "        "
   ]
  },
  {
   "cell_type": "markdown",
   "metadata": {},
   "source": [
    "# 3 functions in sequence"
   ]
  },
  {
   "cell_type": "markdown",
   "metadata": {},
   "source": [
    "## 1"
   ]
  },
  {
   "cell_type": "code",
   "execution_count": 171,
   "metadata": {},
   "outputs": [],
   "source": [
    "def countOccuranceOfGenre(df, a):\n",
    "    try:\n",
    "        df1 = df\n",
    "        for i in range(0,len(a)):\n",
    "            df1 = df1[df1['genres'].str.contains(a[i],flags=re.I,regex=True)]\n",
    "            count = df1[\"genres\"].count()\n",
    "        return count, a\n",
    "    except Exception as E:\n",
    "        pass\n",
    "#         print(\"from countOccuranceOfGenre : \",E)\n",
    "\n",
    "        \n",
    "    \n",
    "\n"
   ]
  },
  {
   "cell_type": "code",
   "execution_count": 32,
   "metadata": {},
   "outputs": [
    {
     "data": {
      "text/plain": [
       "(1071, ('YOUNG ADULT', 'MYSTERY'))"
      ]
     },
     "execution_count": 32,
     "metadata": {},
     "output_type": "execute_result"
    }
   ],
   "source": [
    "countOccuranceOfGenre(df,('YOUNG ADULT', 'MYSTERY'))\n"
   ]
  },
  {
   "cell_type": "code",
   "execution_count": null,
   "metadata": {},
   "outputs": [],
   "source": []
  },
  {
   "cell_type": "markdown",
   "metadata": {},
   "source": [
    "## 2"
   ]
  },
  {
   "cell_type": "code",
   "execution_count": 139,
   "metadata": {},
   "outputs": [],
   "source": [
    "def elemination(df,min_support):\n",
    "    print(\"Inside elemination\")\n",
    "    if(len(df) == 1):\n",
    "        print(\"Length is 1\")\n",
    "        return df,False\n",
    "    try:\n",
    "        countgenres = len(df['genres'])\n",
    "        print(\"df before\")\n",
    "        print(df)\n",
    "        df = df[df['counts'] >= min_support]\n",
    "        print(\"df after\")\n",
    "        print(df)\n",
    "        if(len(df) == countgenres):\n",
    "            continueFlag = False\n",
    "        else:\n",
    "            continueFlag = True\n",
    "        return df,continueFlag\n",
    "    except Exception as E:\n",
    "        print(\"from elemination : \",E)"
   ]
  },
  {
   "cell_type": "markdown",
   "metadata": {},
   "source": [
    "## 3"
   ]
  },
  {
   "cell_type": "code",
   "execution_count": 106,
   "metadata": {},
   "outputs": [],
   "source": [
    "def combination(tempDF,noOfItemSet):\n",
    "    print(\"inside combination\")\n",
    "    try:\n",
    "        genres = []\n",
    "        from itertools import combinations\n",
    "\n",
    "        comb = combinations(tempDF['genres'],noOfItemSet)\n",
    "\n",
    "        # Print the obtained combinations\n",
    "        for i in list(comb):\n",
    "    #         print (i)\n",
    "            genres.append(i)\n",
    "\n",
    "        return genres\n",
    "        #     countOccuranceOfGenre(df, i)\n",
    "    except Exception as E:\n",
    "        print(\"from combination : \",E)"
   ]
  },
  {
   "cell_type": "code",
   "execution_count": 17,
   "metadata": {},
   "outputs": [
    {
     "data": {
      "text/plain": [
       "[('YOUNG ADULT', 'MYSTERY'),\n",
       " ('YOUNG ADULT', 'ROMANCE'),\n",
       " ('YOUNG ADULT', 'FICTION'),\n",
       " ('MYSTERY', 'ROMANCE'),\n",
       " ('MYSTERY', 'FICTION'),\n",
       " ('ROMANCE', 'FICTION')]"
      ]
     },
     "execution_count": 17,
     "metadata": {},
     "output_type": "execute_result"
    }
   ],
   "source": [
    "combination(df.head(),2)"
   ]
  },
  {
   "cell_type": "code",
   "execution_count": 18,
   "metadata": {},
   "outputs": [
    {
     "data": {
      "text/html": [
       "<div>\n",
       "<style scoped>\n",
       "    .dataframe tbody tr th:only-of-type {\n",
       "        vertical-align: middle;\n",
       "    }\n",
       "\n",
       "    .dataframe tbody tr th {\n",
       "        vertical-align: top;\n",
       "    }\n",
       "\n",
       "    .dataframe thead th {\n",
       "        text-align: right;\n",
       "    }\n",
       "</style>\n",
       "<table border=\"1\" class=\"dataframe\">\n",
       "  <thead>\n",
       "    <tr style=\"text-align: right;\">\n",
       "      <th></th>\n",
       "      <th>genres</th>\n",
       "      <th>id</th>\n",
       "    </tr>\n",
       "  </thead>\n",
       "  <tbody>\n",
       "    <tr>\n",
       "      <th>1</th>\n",
       "      <td>FICTION, ROMANCE</td>\n",
       "      <td>9487</td>\n",
       "    </tr>\n",
       "  </tbody>\n",
       "</table>\n",
       "</div>"
      ],
      "text/plain": [
       "             genres    id\n",
       "1  FICTION, ROMANCE  9487"
      ]
     },
     "execution_count": 18,
     "metadata": {},
     "output_type": "execute_result"
    }
   ],
   "source": [
    "df[1:2]"
   ]
  },
  {
   "cell_type": "markdown",
   "metadata": {},
   "source": [
    "## Calling all 3 functions"
   ]
  },
  {
   "cell_type": "code",
   "execution_count": 10,
   "metadata": {},
   "outputs": [],
   "source": [
    "def algo():\n",
    "    pass"
   ]
  },
  {
   "cell_type": "code",
   "execution_count": 26,
   "metadata": {},
   "outputs": [
    {
     "data": {
      "text/plain": [
       "46454"
      ]
     },
     "execution_count": 26,
     "metadata": {},
     "output_type": "execute_result"
    }
   ],
   "source": []
  },
  {
   "cell_type": "markdown",
   "metadata": {},
   "source": [
    "# Main Function"
   ]
  },
  {
   "cell_type": "code",
   "execution_count": 172,
   "metadata": {},
   "outputs": [
    {
     "name": "stdout",
     "output_type": "stream",
     "text": [
      "************************\n",
      "Inside elemination\n",
      "df before\n",
      "                          genres  counts\n",
      "0                    YOUNG ADULT    9520\n",
      "1                        MYSTERY   10732\n",
      "2                        ROMANCE   14829\n",
      "3                        FICTION   34321\n",
      "4                       THRILLER    8892\n",
      "5                         HORROR   14844\n",
      "6                     NONFICTION   34321\n",
      "7                     HISTORICAL    7805\n",
      "8                          HUMOR    3580\n",
      "9                      CHILDRENS    4642\n",
      "10                      CLASSICS   14810\n",
      "11                       FANTASY   16277\n",
      "12               SCIENCE FICTION   15950\n",
      "13                     ADVENTURE    2693\n",
      "14                 MYSTERY-CRIME    3463\n",
      "15            FANTASY-PARANORMAL    4688\n",
      "16                    LITERATURE    7188\n",
      "17                     BIOGRAPHY    2469\n",
      "18                        NOVELS    4358\n",
      "19  ROMANCE-CONTEMPORARY ROMANCE    5707\n",
      "df after\n",
      "                          genres  counts\n",
      "0                    YOUNG ADULT    9520\n",
      "1                        MYSTERY   10732\n",
      "2                        ROMANCE   14829\n",
      "3                        FICTION   34321\n",
      "4                       THRILLER    8892\n",
      "5                         HORROR   14844\n",
      "6                     NONFICTION   34321\n",
      "7                     HISTORICAL    7805\n",
      "9                      CHILDRENS    4642\n",
      "10                      CLASSICS   14810\n",
      "11                       FANTASY   16277\n",
      "12               SCIENCE FICTION   15950\n",
      "15            FANTASY-PARANORMAL    4688\n",
      "16                    LITERATURE    7188\n",
      "18                        NOVELS    4358\n",
      "19  ROMANCE-CONTEMPORARY ROMANCE    5707\n",
      "Length of tempDF2:  16\n",
      "inside combination\n",
      "inside countOccuranceOfGenre\n",
      "2\n",
      "************************\n",
      "Inside elemination\n",
      "df before\n",
      "                                                genres  counts\n",
      "0                               (YOUNG ADULT, MYSTERY)    1071\n",
      "1                               (YOUNG ADULT, ROMANCE)    3676\n",
      "2                               (YOUNG ADULT, FICTION)    5636\n",
      "3                              (YOUNG ADULT, THRILLER)     287\n",
      "4                                (YOUNG ADULT, HORROR)     475\n",
      "..                                                 ...     ...\n",
      "115                       (FANTASY-PARANORMAL, NOVELS)      22\n",
      "116  (FANTASY-PARANORMAL, ROMANCE-CONTEMPORARY ROMA...      53\n",
      "117                               (LITERATURE, NOVELS)     900\n",
      "118         (LITERATURE, ROMANCE-CONTEMPORARY ROMANCE)       1\n",
      "119             (NOVELS, ROMANCE-CONTEMPORARY ROMANCE)      25\n",
      "\n",
      "[120 rows x 2 columns]\n",
      "df after\n",
      "                            genres  counts\n",
      "2           (YOUNG ADULT, FICTION)    5636\n",
      "9           (YOUNG ADULT, FANTASY)    5145\n",
      "16              (MYSTERY, FICTION)    4932\n",
      "29              (ROMANCE, FICTION)    5094\n",
      "36              (ROMANCE, FANTASY)    4390\n",
      "44           (FICTION, NONFICTION)    8175\n",
      "47             (FICTION, CLASSICS)    4460\n",
      "48              (FICTION, FANTASY)    7682\n",
      "49      (FICTION, SCIENCE FICTION)    4018\n",
      "106  (FANTASY, FANTASY-PARANORMAL)    4626\n",
      "Length of tempDF2:  10\n",
      "inside combination\n",
      "inside countOccuranceOfGenre\n",
      "3\n",
      "************************\n"
     ]
    }
   ],
   "source": [
    "UniqueGenres=[]  # will give unique Genre in list.\n",
    "for i in range(df.shape[0]):\n",
    "    for j in range(df['genres'][i].count(',')+1):\n",
    "        c = df['genres'][i].split(',')[j].strip()\n",
    "        if c not in UniqueGenres:\n",
    "            UniqueGenres.append(c)\n",
    "# print(\"UniqueGenres : \",UniqueGenres)\n",
    "continueFlag = True\n",
    "counter = 1\n",
    "Data = []\n",
    "uniqueGenres = []\n",
    "countGenres = []\n",
    "prevDF = \"\"\n",
    "for genres in UniqueGenres:\n",
    "    count,genre = countOccuranceOfGenre(df,genres)\n",
    "    countGenres.append(count)\n",
    "    uniqueGenres.append(genre)\n",
    "d = {'genres': uniqueGenres, 'counts': countGenres}\n",
    "tempDF1 = pd.DataFrame(data = d)    \n",
    "    \n",
    "def countEleminateCombine(df,tempDF,counter): \n",
    "    global prevDF,Data\n",
    "    print(\"************************\")\n",
    "    uniqueGenres = []\n",
    "    countGenres = []\n",
    "    counter +=1\n",
    "    tempDF1 = tempDF\n",
    "\n",
    "    #     created dataframe --step 1\n",
    "    \"\"\"Elemination round\"\"\"\n",
    "    if(not tempDF1.empty):\n",
    "        tempDF2,continueFlag = elemination(tempDF1,min_support)\n",
    "        print(\"Length of tempDF2: \",len(tempDF2))\n",
    "        if(len(tempDF2) > 0):\n",
    "            Data.append(tempDF2)\n",
    "\n",
    "        if(continueFlag == False):\n",
    "            print(\"Final Output :\",tempDF2)\n",
    "            return tempDF2\n",
    "        \"\"\"Combination + count \"\"\"\n",
    "        genres = combination(tempDF2,counter)\n",
    "    #     print(\"genres\",genres)\n",
    "        # calling countOccuranceOfGenre on genres\n",
    "        print(\"inside countOccuranceOfGenre\")\n",
    "\n",
    "        for genre in genres:\n",
    "    #         print(\"genre : \",genre)\n",
    "    #         print(\"---\",countOccuranceOfGenre(df,genre))\n",
    "            data = countOccuranceOfGenre(df,genre)\n",
    "            if(data!= None):\n",
    "                count,genre = data\n",
    "                countGenres.append(count)\n",
    "                uniqueGenres.append(genre)\n",
    "        d = {'genres': uniqueGenres, 'counts': countGenres}\n",
    "        tempDF3 = pd.DataFrame(data = d)\n",
    "    #     print(\"tempDF3 : \",tempDF3)\n",
    "\n",
    "        \"\"\"Finish \"\"\"\n",
    "        print(counter)\n",
    "    #     print(\"After Cobination and count : \",tempDF3)\n",
    "\n",
    "        countEleminateCombine(df,tempDF3,counter)\n",
    "\n",
    "countEleminateCombine(df,tempDF1,counter)\n"
   ]
  },
  {
   "cell_type": "markdown",
   "metadata": {},
   "source": [
    "# Your Output.\n",
    "## (YOUNG ADULT, FICTION) => make it key and value pair : {'YOUNG ADULT':'FICTION'}"
   ]
  },
  {
   "cell_type": "code",
   "execution_count": 169,
   "metadata": {},
   "outputs": [
    {
     "data": {
      "text/html": [
       "<div>\n",
       "<style scoped>\n",
       "    .dataframe tbody tr th:only-of-type {\n",
       "        vertical-align: middle;\n",
       "    }\n",
       "\n",
       "    .dataframe tbody tr th {\n",
       "        vertical-align: top;\n",
       "    }\n",
       "\n",
       "    .dataframe thead th {\n",
       "        text-align: right;\n",
       "    }\n",
       "</style>\n",
       "<table border=\"1\" class=\"dataframe\">\n",
       "  <thead>\n",
       "    <tr style=\"text-align: right;\">\n",
       "      <th></th>\n",
       "      <th>genres</th>\n",
       "      <th>counts</th>\n",
       "    </tr>\n",
       "  </thead>\n",
       "  <tbody>\n",
       "    <tr>\n",
       "      <th>2</th>\n",
       "      <td>(YOUNG ADULT, FICTION)</td>\n",
       "      <td>5636</td>\n",
       "    </tr>\n",
       "    <tr>\n",
       "      <th>9</th>\n",
       "      <td>(YOUNG ADULT, FANTASY)</td>\n",
       "      <td>5145</td>\n",
       "    </tr>\n",
       "    <tr>\n",
       "      <th>16</th>\n",
       "      <td>(MYSTERY, FICTION)</td>\n",
       "      <td>4932</td>\n",
       "    </tr>\n",
       "    <tr>\n",
       "      <th>29</th>\n",
       "      <td>(ROMANCE, FICTION)</td>\n",
       "      <td>5094</td>\n",
       "    </tr>\n",
       "    <tr>\n",
       "      <th>36</th>\n",
       "      <td>(ROMANCE, FANTASY)</td>\n",
       "      <td>4390</td>\n",
       "    </tr>\n",
       "    <tr>\n",
       "      <th>44</th>\n",
       "      <td>(FICTION, NONFICTION)</td>\n",
       "      <td>8175</td>\n",
       "    </tr>\n",
       "    <tr>\n",
       "      <th>47</th>\n",
       "      <td>(FICTION, CLASSICS)</td>\n",
       "      <td>4460</td>\n",
       "    </tr>\n",
       "    <tr>\n",
       "      <th>48</th>\n",
       "      <td>(FICTION, FANTASY)</td>\n",
       "      <td>7682</td>\n",
       "    </tr>\n",
       "    <tr>\n",
       "      <th>49</th>\n",
       "      <td>(FICTION, SCIENCE FICTION)</td>\n",
       "      <td>4018</td>\n",
       "    </tr>\n",
       "    <tr>\n",
       "      <th>106</th>\n",
       "      <td>(FANTASY, FANTASY-PARANORMAL)</td>\n",
       "      <td>4626</td>\n",
       "    </tr>\n",
       "  </tbody>\n",
       "</table>\n",
       "</div>"
      ],
      "text/plain": [
       "                            genres  counts\n",
       "2           (YOUNG ADULT, FICTION)    5636\n",
       "9           (YOUNG ADULT, FANTASY)    5145\n",
       "16              (MYSTERY, FICTION)    4932\n",
       "29              (ROMANCE, FICTION)    5094\n",
       "36              (ROMANCE, FANTASY)    4390\n",
       "44           (FICTION, NONFICTION)    8175\n",
       "47             (FICTION, CLASSICS)    4460\n",
       "48              (FICTION, FANTASY)    7682\n",
       "49      (FICTION, SCIENCE FICTION)    4018\n",
       "106  (FANTASY, FANTASY-PARANORMAL)    4626"
      ]
     },
     "execution_count": 169,
     "metadata": {},
     "output_type": "execute_result"
    }
   ],
   "source": [
    "Data[-1]"
   ]
  },
  {
   "cell_type": "code",
   "execution_count": null,
   "metadata": {},
   "outputs": [],
   "source": []
  }
 ],
 "metadata": {
  "kernelspec": {
   "display_name": "Python 3",
   "language": "python",
   "name": "python3"
  },
  "language_info": {
   "codemirror_mode": {
    "name": "ipython",
    "version": 3
   },
   "file_extension": ".py",
   "mimetype": "text/x-python",
   "name": "python",
   "nbconvert_exporter": "python",
   "pygments_lexer": "ipython3",
   "version": "3.7.6"
  }
 },
 "nbformat": 4,
 "nbformat_minor": 4
}
